{
  "nbformat": 4,
  "nbformat_minor": 0,
  "metadata": {
    "colab": {
      "name": "Fucntions.ipynb",
      "version": "0.3.2",
      "provenance": [],
      "collapsed_sections": [],
      "include_colab_link": true
    },
    "kernelspec": {
      "name": "python3",
      "display_name": "Python 3"
    },
    "accelerator": "TPU"
  },
  "cells": [
    {
      "cell_type": "markdown",
      "metadata": {
        "id": "view-in-github",
        "colab_type": "text"
      },
      "source": [
        "<a href=\"https://colab.research.google.com/github/Venkata09578/Python/blob/master/Fucntions.ipynb\" target=\"_parent\"><img src=\"https://colab.research.google.com/assets/colab-badge.svg\" alt=\"Open In Colab\"/></a>"
      ]
    },
    {
      "cell_type": "markdown",
      "metadata": {
        "id": "LzbabfeL8hTa",
        "colab_type": "text"
      },
      "source": [
        "**Defining a Function in python**"
      ]
    },
    {
      "cell_type": "code",
      "metadata": {
        "id": "ZAtPJxyktd2m",
        "colab_type": "code",
        "colab": {}
      },
      "source": [
        "def func():\n",
        "  print(\"Hello World\")"
      ],
      "execution_count": 0,
      "outputs": []
    },
    {
      "cell_type": "markdown",
      "metadata": {
        "id": "rW9v8dWE8mFq",
        "colab_type": "text"
      },
      "source": [
        "**Calling a Function**"
      ]
    },
    {
      "cell_type": "code",
      "metadata": {
        "id": "reXKLD8j8bFs",
        "colab_type": "code",
        "colab": {
          "base_uri": "https://localhost:8080/",
          "height": 34
        },
        "outputId": "02a56d46-4c16-43a8-81fc-d6074141ba8b"
      },
      "source": [
        "func()"
      ],
      "execution_count": 3,
      "outputs": [
        {
          "output_type": "stream",
          "text": [
            "Hello World\n"
          ],
          "name": "stdout"
        }
      ]
    },
    {
      "cell_type": "markdown",
      "metadata": {
        "id": "qMxy11Lf81xC",
        "colab_type": "text"
      },
      "source": [
        "**Difference between Arguments and Parameters**<br>\n",
        "Parameters are variables that are passed in a method definition. whereas Arguments are values that are passed to a method when it is invoked\n",
        "\n",
        "\n"
      ]
    },
    {
      "cell_type": "code",
      "metadata": {
        "id": "XQvKAF_N8dCF",
        "colab_type": "code",
        "colab": {}
      },
      "source": [
        "def func(firstname,lastname):\n",
        "  print(f\"Hello {firstname.title()} {lastname.title()}\")"
      ],
      "execution_count": 0,
      "outputs": []
    },
    {
      "cell_type": "code",
      "metadata": {
        "id": "HaNh5Zky90Xf",
        "colab_type": "code",
        "colab": {
          "base_uri": "https://localhost:8080/",
          "height": 34
        },
        "outputId": "6c1e0f7e-7354-46c9-ab07-332a0134ae63"
      },
      "source": [
        "func(\"venkata\",\"thota\")"
      ],
      "execution_count": 11,
      "outputs": [
        {
          "output_type": "stream",
          "text": [
            "Hello Venkata Thota\n"
          ],
          "name": "stdout"
        }
      ]
    },
    {
      "cell_type": "markdown",
      "metadata": {
        "id": "wzZg88cb-yl9",
        "colab_type": "text"
      },
      "source": [
        "**Types of Functions**<br>\n",
        "\n",
        "By default function will return \"none\" unless specified."
      ]
    },
    {
      "cell_type": "code",
      "metadata": {
        "id": "2skPYgs3994G",
        "colab_type": "code",
        "colab": {}
      },
      "source": [
        "def func1(firstname,lastname):\n",
        "  print(f\"Hello {firstname} {lastname},Welcome to our Portal.\")"
      ],
      "execution_count": 0,
      "outputs": []
    },
    {
      "cell_type": "code",
      "metadata": {
        "id": "2VPxsqbSATej",
        "colab_type": "code",
        "colab": {
          "base_uri": "https://localhost:8080/",
          "height": 34
        },
        "outputId": "cbb4ef2b-490e-46c1-f022-f6486a843fce"
      },
      "source": [
        "func1(\"Venkata\",\"Thota\")"
      ],
      "execution_count": 22,
      "outputs": [
        {
          "output_type": "stream",
          "text": [
            "Hello Venkata Thota,Welcome to our Portal.\n"
          ],
          "name": "stdout"
        }
      ]
    },
    {
      "cell_type": "code",
      "metadata": {
        "id": "VZuXFgLYAUiD",
        "colab_type": "code",
        "colab": {}
      },
      "source": [
        "def func2(firstname,lastname):\n",
        "  return (f\"Hello {firstname} {lastname},Welcome to our Portal.\")"
      ],
      "execution_count": 0,
      "outputs": []
    },
    {
      "cell_type": "code",
      "metadata": {
        "id": "VGEqKGDYAePY",
        "colab_type": "code",
        "colab": {
          "base_uri": "https://localhost:8080/",
          "height": 34
        },
        "outputId": "de1f6b92-b027-4dec-d150-6e5ab1d41aad"
      },
      "source": [
        "print(func2(\"Venkata\",\"Thota\"))"
      ],
      "execution_count": 24,
      "outputs": [
        {
          "output_type": "stream",
          "text": [
            "Hello Venkata Thota,Welcome to our Portal.\n"
          ],
          "name": "stdout"
        }
      ]
    },
    {
      "cell_type": "markdown",
      "metadata": {
        "id": "naiLiz_aBR0H",
        "colab_type": "text"
      },
      "source": [
        "**Keyword Arguments**"
      ]
    },
    {
      "cell_type": "code",
      "metadata": {
        "id": "PWCOz2hAAnBY",
        "colab_type": "code",
        "colab": {}
      },
      "source": [
        "def increment(number,by):\n",
        "  return number + by"
      ],
      "execution_count": 0,
      "outputs": []
    },
    {
      "cell_type": "code",
      "metadata": {
        "id": "n8Phy6pbBZKS",
        "colab_type": "code",
        "colab": {
          "base_uri": "https://localhost:8080/",
          "height": 34
        },
        "outputId": "5bccf7bc-4843-4f3c-f6f6-d31811d75be7"
      },
      "source": [
        "print(increment(number = 2,by = 1))"
      ],
      "execution_count": 26,
      "outputs": [
        {
          "output_type": "stream",
          "text": [
            "3\n"
          ],
          "name": "stdout"
        }
      ]
    },
    {
      "cell_type": "markdown",
      "metadata": {
        "id": "hKB3QjBsBh-v",
        "colab_type": "text"
      },
      "source": [
        "**Default Arguments**"
      ]
    },
    {
      "cell_type": "code",
      "metadata": {
        "id": "dBaZJO5iBckq",
        "colab_type": "code",
        "colab": {}
      },
      "source": [
        "def increment1(number,by = 1):   #by=1 is a default parameter\n",
        "  return number + by"
      ],
      "execution_count": 0,
      "outputs": []
    },
    {
      "cell_type": "code",
      "metadata": {
        "id": "WpTNughjBvIZ",
        "colab_type": "code",
        "colab": {
          "base_uri": "https://localhost:8080/",
          "height": 34
        },
        "outputId": "dd3c8954-8f6c-43c2-97c8-4b0110699102"
      },
      "source": [
        "print(increment(number = 2))"
      ],
      "execution_count": 30,
      "outputs": [
        {
          "output_type": "stream",
          "text": [
            "3\n"
          ],
          "name": "stdout"
        }
      ]
    },
    {
      "cell_type": "code",
      "metadata": {
        "id": "UZ1oolHQBzqi",
        "colab_type": "code",
        "colab": {
          "base_uri": "https://localhost:8080/",
          "height": 34
        },
        "outputId": "edd6c715-cd5f-4624-dcb4-a5392b276e95"
      },
      "source": [
        "print(increment(number = 2,by = 4))"
      ],
      "execution_count": 33,
      "outputs": [
        {
          "output_type": "stream",
          "text": [
            "6\n"
          ],
          "name": "stdout"
        }
      ]
    },
    {
      "cell_type": "markdown",
      "metadata": {
        "id": "eWlIKVQ-DGir",
        "colab_type": "text"
      },
      "source": [
        "**variable Arguments**"
      ]
    },
    {
      "cell_type": "code",
      "metadata": {
        "id": "bsEHe6H4Cgc6",
        "colab_type": "code",
        "colab": {
          "base_uri": "https://localhost:8080/",
          "height": 34
        },
        "outputId": "57199d8e-3dbd-4786-9cc2-6f508ec22dd0"
      },
      "source": [
        "def mul(*numbers):\n",
        "  total = 1\n",
        "  for number in numbers:\n",
        "    total = total * number\n",
        "  return total\n",
        "  \n",
        "\n",
        "  \n",
        "print(mul(2,3,4))\n",
        "  "
      ],
      "execution_count": 39,
      "outputs": [
        {
          "output_type": "stream",
          "text": [
            "24\n"
          ],
          "name": "stdout"
        }
      ]
    },
    {
      "cell_type": "markdown",
      "metadata": {
        "id": "mueC2yRrJPFs",
        "colab_type": "text"
      },
      "source": [
        "**Arbitary Keyword(key value) Arguments**"
      ]
    },
    {
      "cell_type": "code",
      "metadata": {
        "id": "RXDEZkuZEmtv",
        "colab_type": "code",
        "colab": {}
      },
      "source": [
        "def save_user(**user):\n",
        "  print(user)\n",
        "  "
      ],
      "execution_count": 0,
      "outputs": []
    },
    {
      "cell_type": "code",
      "metadata": {
        "id": "e42fTd9eJNYf",
        "colab_type": "code",
        "colab": {
          "base_uri": "https://localhost:8080/",
          "height": 34
        },
        "outputId": "f4724e41-d9d7-4b26-bc02-f54ffff2b8dc"
      },
      "source": [
        "save_user(id = 2, name = \"Anil\", age = 24)"
      ],
      "execution_count": 41,
      "outputs": [
        {
          "output_type": "stream",
          "text": [
            "{'id': 2, 'name': 'Anil', 'age': 24}\n"
          ],
          "name": "stdout"
        }
      ]
    },
    {
      "cell_type": "markdown",
      "metadata": {
        "id": "OSTm-ioBKn8d",
        "colab_type": "text"
      },
      "source": [
        "**Exercise**"
      ]
    },
    {
      "cell_type": "code",
      "metadata": {
        "id": "YLRopKraJbHQ",
        "colab_type": "code",
        "colab": {}
      },
      "source": [
        "def fizz_buzz(number):\n",
        "  if number % 3 == 0 and not number % 5 == 0:\n",
        "    print(\"Fizz\")\n",
        "  elif number % 5 == 0 and not number % 3 == 0:\n",
        "    print(\"Buzz\")\n",
        "  elif number % 3 == 0 and number % 5 == 0:\n",
        "    print(\"FizzBuzz\")\n",
        "  else:\n",
        "    print(number)  \n",
        "  \n",
        "    "
      ],
      "execution_count": 0,
      "outputs": []
    },
    {
      "cell_type": "code",
      "metadata": {
        "id": "MGNUcILDMHKB",
        "colab_type": "code",
        "colab": {
          "base_uri": "https://localhost:8080/",
          "height": 34
        },
        "outputId": "00ece547-220e-4300-93a2-dbc34da43082"
      },
      "source": [
        "fizz_buzz(3)"
      ],
      "execution_count": 53,
      "outputs": [
        {
          "output_type": "stream",
          "text": [
            "Fizz\n"
          ],
          "name": "stdout"
        }
      ]
    },
    {
      "cell_type": "code",
      "metadata": {
        "id": "rMHIklSUMLXQ",
        "colab_type": "code",
        "colab": {
          "base_uri": "https://localhost:8080/",
          "height": 34
        },
        "outputId": "3d2fba1e-3996-45d6-d188-f1a3b6e57eb3"
      },
      "source": [
        "fizz_buzz(5)"
      ],
      "execution_count": 54,
      "outputs": [
        {
          "output_type": "stream",
          "text": [
            "Buzz\n"
          ],
          "name": "stdout"
        }
      ]
    },
    {
      "cell_type": "code",
      "metadata": {
        "id": "gwptC4GpMlb4",
        "colab_type": "code",
        "colab": {
          "base_uri": "https://localhost:8080/",
          "height": 34
        },
        "outputId": "67ccd845-9339-40c8-d97c-f07d7966c6b4"
      },
      "source": [
        "fizz_buzz(15)"
      ],
      "execution_count": 55,
      "outputs": [
        {
          "output_type": "stream",
          "text": [
            "FizzBuzz\n"
          ],
          "name": "stdout"
        }
      ]
    },
    {
      "cell_type": "code",
      "metadata": {
        "id": "lD30v5J-Mnmw",
        "colab_type": "code",
        "colab": {
          "base_uri": "https://localhost:8080/",
          "height": 34
        },
        "outputId": "c00d5e3b-ebdc-455d-b9c4-8bc92bba95ef"
      },
      "source": [
        "fizz_buzz(8)"
      ],
      "execution_count": 56,
      "outputs": [
        {
          "output_type": "stream",
          "text": [
            "8\n"
          ],
          "name": "stdout"
        }
      ]
    }
  ]
}