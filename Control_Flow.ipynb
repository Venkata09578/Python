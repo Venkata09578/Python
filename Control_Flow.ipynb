{
  "nbformat": 4,
  "nbformat_minor": 0,
  "metadata": {
    "colab": {
      "name": "Control Flow.ipynb",
      "version": "0.3.2",
      "provenance": [],
      "collapsed_sections": [],
      "include_colab_link": true
    },
    "kernelspec": {
      "name": "python3",
      "display_name": "Python 3"
    }
  },
  "cells": [
    {
      "cell_type": "markdown",
      "metadata": {
        "id": "view-in-github",
        "colab_type": "text"
      },
      "source": [
        "<a href=\"https://colab.research.google.com/github/Venkata09578/Python/blob/master/Control_Flow.ipynb\" target=\"_parent\"><img src=\"https://colab.research.google.com/assets/colab-badge.svg\" alt=\"Open In Colab\"/></a>"
      ]
    },
    {
      "cell_type": "markdown",
      "metadata": {
        "id": "wpqKhnYmvPiD",
        "colab_type": "text"
      },
      "source": [
        "**Comparision Operators:**"
      ]
    },
    {
      "cell_type": "code",
      "metadata": {
        "id": "Pfux1mOooZS_",
        "colab_type": "code",
        "colab": {
          "base_uri": "https://localhost:8080/",
          "height": 34
        },
        "outputId": "76580687-c783-4389-9dc0-caf5502ea74e"
      },
      "source": [
        "10 > 3"
      ],
      "execution_count": 1,
      "outputs": [
        {
          "output_type": "execute_result",
          "data": {
            "text/plain": [
              "True"
            ]
          },
          "metadata": {
            "tags": []
          },
          "execution_count": 1
        }
      ]
    },
    {
      "cell_type": "code",
      "metadata": {
        "id": "skDOOHntu88A",
        "colab_type": "code",
        "colab": {
          "base_uri": "https://localhost:8080/",
          "height": 34
        },
        "outputId": "69ff13f1-1c90-412c-f1ee-da3593184f1b"
      },
      "source": [
        "10 >= 3\n"
      ],
      "execution_count": 2,
      "outputs": [
        {
          "output_type": "execute_result",
          "data": {
            "text/plain": [
              "True"
            ]
          },
          "metadata": {
            "tags": []
          },
          "execution_count": 2
        }
      ]
    },
    {
      "cell_type": "code",
      "metadata": {
        "id": "Cb39RBOKu-jN",
        "colab_type": "code",
        "colab": {
          "base_uri": "https://localhost:8080/",
          "height": 34
        },
        "outputId": "3787bebe-0b44-44c1-ef5a-6029f7793d8c"
      },
      "source": [
        "10 < 20"
      ],
      "execution_count": 3,
      "outputs": [
        {
          "output_type": "execute_result",
          "data": {
            "text/plain": [
              "True"
            ]
          },
          "metadata": {
            "tags": []
          },
          "execution_count": 3
        }
      ]
    },
    {
      "cell_type": "code",
      "metadata": {
        "id": "kTSnEWCZu_e1",
        "colab_type": "code",
        "colab": {
          "base_uri": "https://localhost:8080/",
          "height": 34
        },
        "outputId": "8cc735f6-34fa-403a-e4de-280d198ccf70"
      },
      "source": [
        "10 == 10"
      ],
      "execution_count": 5,
      "outputs": [
        {
          "output_type": "execute_result",
          "data": {
            "text/plain": [
              "True"
            ]
          },
          "metadata": {
            "tags": []
          },
          "execution_count": 5
        }
      ]
    },
    {
      "cell_type": "markdown",
      "metadata": {
        "id": "-VYRzSUMvYJY",
        "colab_type": "text"
      },
      "source": [
        "Based on sorting it returns true."
      ]
    },
    {
      "cell_type": "code",
      "metadata": {
        "id": "w1koJ9IzvAaW",
        "colab_type": "code",
        "colab": {
          "base_uri": "https://localhost:8080/",
          "height": 34
        },
        "outputId": "a4a826f0-d3cf-48e0-b2d2-ce55606ba70e"
      },
      "source": [
        "\"bag\" > \"apple\""
      ],
      "execution_count": 7,
      "outputs": [
        {
          "output_type": "execute_result",
          "data": {
            "text/plain": [
              "True"
            ]
          },
          "metadata": {
            "tags": []
          },
          "execution_count": 7
        }
      ]
    },
    {
      "cell_type": "code",
      "metadata": {
        "id": "3H_XKir4vGkV",
        "colab_type": "code",
        "colab": {
          "base_uri": "https://localhost:8080/",
          "height": 34
        },
        "outputId": "35c32e87-e41d-4278-db55-11b351fc1f2c"
      },
      "source": [
        "\"bag\" == \"BAG\""
      ],
      "execution_count": 9,
      "outputs": [
        {
          "output_type": "execute_result",
          "data": {
            "text/plain": [
              "False"
            ]
          },
          "metadata": {
            "tags": []
          },
          "execution_count": 9
        }
      ]
    },
    {
      "cell_type": "markdown",
      "metadata": {
        "id": "yMHP2FHNveV5",
        "colab_type": "text"
      },
      "source": [
        "**Conditional Statements:**"
      ]
    },
    {
      "cell_type": "code",
      "metadata": {
        "id": "t8IRbCb_vLI9",
        "colab_type": "code",
        "colab": {
          "base_uri": "https://localhost:8080/",
          "height": 51
        },
        "outputId": "a1b2e938-5a8c-420d-8d70-e529433097c3"
      },
      "source": [
        "marks = int(input(\"Enter the Marks: \"))\n",
        "\n",
        "if marks < 30:\n",
        "  print(\"Fail\")\n",
        "\n",
        "elif marks > 30 and marks <= 40:\n",
        "  print(\"E Grade\")\n",
        "\n",
        "elif marks > 40 and marks <= 50:\n",
        "  print(\"D Grade\")\n",
        "\n",
        "elif marks >50 and marks <= 60:\n",
        "  print(\"C Grade\")\n",
        "  \n",
        "elif marks >60 and marks <= 70:\n",
        "  print(\"B Grade\")\n",
        "\n",
        "elif marks >70 and marks <= 80:\n",
        "  print(\"A Grade\")\n",
        "  \n",
        "else:\n",
        "  print(\"A+ Grade\")\n",
        "\n"
      ],
      "execution_count": 20,
      "outputs": [
        {
          "output_type": "stream",
          "text": [
            "Enter the Marks: 81\n",
            "A+ Grade\n"
          ],
          "name": "stdout"
        }
      ]
    },
    {
      "cell_type": "markdown",
      "metadata": {
        "id": "V1mP_yea0vhr",
        "colab_type": "text"
      },
      "source": [
        "Ternary Operator:"
      ]
    },
    {
      "cell_type": "code",
      "metadata": {
        "id": "9swKFCpBwdIU",
        "colab_type": "code",
        "colab": {
          "base_uri": "https://localhost:8080/",
          "height": 34
        },
        "outputId": "8c98ad56-f5fd-4989-9f65-452594a03a25"
      },
      "source": [
        "age = 28\n",
        "if age >= 18:\n",
        "  message = \"Elgible\"\n",
        "else:\n",
        "  message = \"Not Elgible\"\n",
        "  \n",
        "print(message)"
      ],
      "execution_count": 21,
      "outputs": [
        {
          "output_type": "stream",
          "text": [
            "Elgible\n"
          ],
          "name": "stdout"
        }
      ]
    },
    {
      "cell_type": "code",
      "metadata": {
        "id": "Ecv5h1mt-zG2",
        "colab_type": "code",
        "colab": {
          "base_uri": "https://localhost:8080/",
          "height": 34
        },
        "outputId": "f09f0c72-359f-4a59-f073-b1737a4767ca"
      },
      "source": [
        "age = 28 \n",
        "message = \" Eligible\" if age >= 18 else \"Not Eligible\"\n",
        "print(message)"
      ],
      "execution_count": 24,
      "outputs": [
        {
          "output_type": "stream",
          "text": [
            " Eligible\n"
          ],
          "name": "stdout"
        }
      ]
    },
    {
      "cell_type": "markdown",
      "metadata": {
        "id": "t0BEDIC4CJP_",
        "colab_type": "text"
      },
      "source": [
        "Logical Operators:\n"
      ]
    },
    {
      "cell_type": "code",
      "metadata": {
        "id": "eM-AvnGiBJgt",
        "colab_type": "code",
        "colab": {
          "base_uri": "https://localhost:8080/",
          "height": 34
        },
        "outputId": "450acdf7-18a7-4eef-a513-f8d495ff63fe"
      },
      "source": [
        "high_income = False\n",
        "good_credit = True\n",
        "student = True\n",
        "\n",
        "if (high_income or good_credit) and not student:\n",
        "  print(\"Eligible\")\n",
        "else:\n",
        "  print(\"Not Eligible\")"
      ],
      "execution_count": 26,
      "outputs": [
        {
          "output_type": "stream",
          "text": [
            "Not Eligible\n"
          ],
          "name": "stdout"
        }
      ]
    },
    {
      "cell_type": "markdown",
      "metadata": {
        "id": "zNgkFBNSGjau",
        "colab_type": "text"
      },
      "source": [
        "For Loops:\n"
      ]
    },
    {
      "cell_type": "code",
      "metadata": {
        "id": "o-KLM1uuENsy",
        "colab_type": "code",
        "colab": {
          "base_uri": "https://localhost:8080/",
          "height": 51
        },
        "outputId": "329107a5-7e96-4638-a555-f8d70701d779"
      },
      "source": [
        "for number in range(2):\n",
        "  print(\"Hello\")"
      ],
      "execution_count": 28,
      "outputs": [
        {
          "output_type": "stream",
          "text": [
            "Hello\n",
            "Hello\n"
          ],
          "name": "stdout"
        }
      ]
    },
    {
      "cell_type": "code",
      "metadata": {
        "id": "npOGY1CPGopR",
        "colab_type": "code",
        "colab": {
          "base_uri": "https://localhost:8080/",
          "height": 51
        },
        "outputId": "1f505b1f-86a6-4c99-a4bd-f03638cbc532"
      },
      "source": [
        "for number in range(2):\n",
        "  print(\"Hello\",number)"
      ],
      "execution_count": 30,
      "outputs": [
        {
          "output_type": "stream",
          "text": [
            "Hello 0\n",
            "Hello 1\n"
          ],
          "name": "stdout"
        }
      ]
    },
    {
      "cell_type": "code",
      "metadata": {
        "id": "mbnZXnklHrcJ",
        "colab_type": "code",
        "colab": {
          "base_uri": "https://localhost:8080/",
          "height": 85
        },
        "outputId": "a53d7aea-1566-47e1-f4c4-6da122c44711"
      },
      "source": [
        "for number in range(0,4):\n",
        "  print(\"Hello\", number)"
      ],
      "execution_count": 32,
      "outputs": [
        {
          "output_type": "stream",
          "text": [
            "Hello 0\n",
            "Hello 1\n",
            "Hello 2\n",
            "Hello 3\n"
          ],
          "name": "stdout"
        }
      ]
    },
    {
      "cell_type": "code",
      "metadata": {
        "id": "mr-z0eTUH0zh",
        "colab_type": "code",
        "colab": {
          "base_uri": "https://localhost:8080/",
          "height": 102
        },
        "outputId": "cf724f31-099c-4e3a-c806-c99bc7c84b8c"
      },
      "source": [
        "for number in range(0,10,2):\n",
        "  print(\"Hello\", number)"
      ],
      "execution_count": 33,
      "outputs": [
        {
          "output_type": "stream",
          "text": [
            "Hello 0\n",
            "Hello 2\n",
            "Hello 4\n",
            "Hello 6\n",
            "Hello 8\n"
          ],
          "name": "stdout"
        }
      ]
    },
    {
      "cell_type": "markdown",
      "metadata": {
        "id": "EpvweQgdIurl",
        "colab_type": "text"
      },
      "source": [
        "For Else:"
      ]
    },
    {
      "cell_type": "code",
      "metadata": {
        "id": "ak7tY4i_H7Qy",
        "colab_type": "code",
        "colab": {
          "base_uri": "https://localhost:8080/",
          "height": 119
        },
        "outputId": "0643976b-23f5-4de8-b34c-d207cec9dbf4"
      },
      "source": [
        "success = False\n",
        "for number in range (0,3):\n",
        "  print(\"Attempt\")\n",
        "  if success:\n",
        "    print(\"success\")\n",
        "    break\n",
        "  else: \n",
        "    print(\"unsuccess\")"
      ],
      "execution_count": 36,
      "outputs": [
        {
          "output_type": "stream",
          "text": [
            "Attempt\n",
            "unsuccess\n",
            "Attempt\n",
            "unsuccess\n",
            "Attempt\n",
            "unsuccess\n"
          ],
          "name": "stdout"
        }
      ]
    },
    {
      "cell_type": "markdown",
      "metadata": {
        "id": "e6kzGK5bPcF0",
        "colab_type": "text"
      },
      "source": [
        "Nested Loops:\n"
      ]
    },
    {
      "cell_type": "code",
      "metadata": {
        "id": "M5w2aai_PR2d",
        "colab_type": "code",
        "colab": {
          "base_uri": "https://localhost:8080/",
          "height": 272
        },
        "outputId": "14784852-d173-416c-d7c7-4e5f8e421f60"
      },
      "source": [
        "for x in range(0,5):\n",
        "  for y in range(0,3):\n",
        "    print(f\"{x},{y}\")"
      ],
      "execution_count": 38,
      "outputs": [
        {
          "output_type": "stream",
          "text": [
            "0,0\n",
            "0,1\n",
            "0,2\n",
            "1,0\n",
            "1,1\n",
            "1,2\n",
            "2,0\n",
            "2,1\n",
            "2,2\n",
            "3,0\n",
            "3,1\n",
            "3,2\n",
            "4,0\n",
            "4,1\n",
            "4,2\n"
          ],
          "name": "stdout"
        }
      ]
    },
    {
      "cell_type": "markdown",
      "metadata": {
        "id": "C1pRPKWqQ2gH",
        "colab_type": "text"
      },
      "source": [
        "While Loop:\n"
      ]
    },
    {
      "cell_type": "code",
      "metadata": {
        "id": "5WtNxoVfP6Q7",
        "colab_type": "code",
        "colab": {
          "base_uri": "https://localhost:8080/",
          "height": 136
        },
        "outputId": "c0d897be-32b5-4ed0-ed57-a7f4732ac2eb"
      },
      "source": [
        "number = 100\n",
        "while number > 0:\n",
        "  print(number)\n",
        "  number = number // 2\n",
        "  "
      ],
      "execution_count": 39,
      "outputs": [
        {
          "output_type": "stream",
          "text": [
            "100\n",
            "50\n",
            "25\n",
            "12\n",
            "6\n",
            "3\n",
            "1\n"
          ],
          "name": "stdout"
        }
      ]
    },
    {
      "cell_type": "markdown",
      "metadata": {
        "id": "hNJ4wpIIRfhg",
        "colab_type": "text"
      },
      "source": [
        "Exercise:"
      ]
    },
    {
      "cell_type": "code",
      "metadata": {
        "id": "xA6fJ5NmRKsJ",
        "colab_type": "code",
        "colab": {
          "base_uri": "https://localhost:8080/",
          "height": 119
        },
        "outputId": "384d3481-35c1-4ab6-b3a4-682d34f606ff"
      },
      "source": [
        "j = 0 \n",
        "for i in range(1,11):\n",
        "  if i % 2 == 0:\n",
        "    print(i)\n",
        "    j += 1\n",
        "  else:\n",
        "    exit()\n",
        "print(f\"We have {j} numbers\")\n",
        "    "
      ],
      "execution_count": 1,
      "outputs": [
        {
          "output_type": "stream",
          "text": [
            "2\n",
            "4\n",
            "6\n",
            "8\n",
            "10\n",
            "We have 5 numbers\n"
          ],
          "name": "stdout"
        }
      ]
    },
    {
      "cell_type": "code",
      "metadata": {
        "id": "Dw9udHFpSFBK",
        "colab_type": "code",
        "colab": {}
      },
      "source": [
        ""
      ],
      "execution_count": 0,
      "outputs": []
    }
  ]
}