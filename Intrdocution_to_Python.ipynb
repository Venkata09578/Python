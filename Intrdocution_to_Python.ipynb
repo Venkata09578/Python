{
  "nbformat": 4,
  "nbformat_minor": 0,
  "metadata": {
    "colab": {
      "name": "Intrdocution to Python.ipynb",
      "version": "0.3.2",
      "provenance": [],
      "collapsed_sections": []
    },
    "kernelspec": {
      "name": "python3",
      "display_name": "Python 3"
    }
  },
  "cells": [
    {
      "cell_type": "markdown",
      "metadata": {
        "id": "iDLxrg2t7YFy",
        "colab_type": "text"
      },
      "source": [
        "**Advantages of python**: <br>1)High Level Language\n",
        "                                        <br> 2)Cross Platform(Can be used on windows,linux,unix etc) \n",
        "                                      <br>    3)Large Ecosystem(Libraries etc)"
      ]
    },
    {
      "cell_type": "markdown",
      "metadata": {
        "id": "6NmPt8dTplUw",
        "colab_type": "text"
      },
      "source": [
        "**Python interpreter runs the code line by line as shown in the below cell:**"
      ]
    },
    {
      "cell_type": "code",
      "metadata": {
        "id": "xUL7zzH3nQlV",
        "colab_type": "code",
        "outputId": "8687605b-bbc9-4c76-aee8-bd4805dc7054",
        "colab": {
          "base_uri": "https://localhost:8080/",
          "height": 68
        }
      },
      "source": [
        "print(\"Venkata\")\n",
        "print(\"Anil\")\n",
        "print(\"Thota\")"
      ],
      "execution_count": 0,
      "outputs": [
        {
          "output_type": "stream",
          "text": [
            "Venkata\n",
            "Anil\n",
            "Thota\n"
          ],
          "name": "stdout"
        }
      ]
    },
    {
      "cell_type": "markdown",
      "metadata": {
        "id": "UslONw50qZJy",
        "colab_type": "text"
      },
      "source": [
        "**Printing an Expression:**"
      ]
    },
    {
      "cell_type": "code",
      "metadata": {
        "id": "lyRWzm8HpXR9",
        "colab_type": "code",
        "outputId": "436a29de-885d-446f-97d7-1ced13ad8d67",
        "colab": {
          "base_uri": "https://localhost:8080/",
          "height": 34
        }
      },
      "source": [
        "print(\"*\" * 10)"
      ],
      "execution_count": 0,
      "outputs": [
        {
          "output_type": "stream",
          "text": [
            "**********\n"
          ],
          "name": "stdout"
        }
      ]
    },
    {
      "cell_type": "markdown",
      "metadata": {
        "id": "5mnGzfE_qflq",
        "colab_type": "text"
      },
      "source": [
        "**Variables are used to temporarily store the data in computers memory. Example is given below:**"
      ]
    },
    {
      "cell_type": "code",
      "metadata": {
        "id": "XuxNLXXgp7E8",
        "colab_type": "code",
        "colab": {}
      },
      "source": [
        "price = 10"
      ],
      "execution_count": 0,
      "outputs": []
    },
    {
      "cell_type": "markdown",
      "metadata": {
        "id": "WJv7MC0aq5my",
        "colab_type": "text"
      },
      "source": [
        "Value 10 will be converted into binary and stored in the variable:"
      ]
    },
    {
      "cell_type": "code",
      "metadata": {
        "id": "HXJEORlDqn8W",
        "colab_type": "code",
        "outputId": "09b5601e-56da-4700-ca84-fb866e2d3ee2",
        "colab": {
          "base_uri": "https://localhost:8080/",
          "height": 34
        }
      },
      "source": [
        "print(price)"
      ],
      "execution_count": 0,
      "outputs": [
        {
          "output_type": "stream",
          "text": [
            "10\n"
          ],
          "name": "stdout"
        }
      ]
    },
    {
      "cell_type": "markdown",
      "metadata": {
        "id": "WAwj6NJ4rOq0",
        "colab_type": "text"
      },
      "source": [
        "Another example how interpreter wiorks:"
      ]
    },
    {
      "cell_type": "code",
      "metadata": {
        "id": "LDfqIxk3qwLW",
        "colab_type": "code",
        "colab": {}
      },
      "source": [
        "price = 10\n",
        "price = 20"
      ],
      "execution_count": 0,
      "outputs": []
    },
    {
      "cell_type": "code",
      "metadata": {
        "id": "aNo5M9JRrJ32",
        "colab_type": "code",
        "outputId": "4b6b2b09-c017-4a40-b6df-b897a80adb84",
        "colab": {
          "base_uri": "https://localhost:8080/",
          "height": 34
        }
      },
      "source": [
        "print(price)"
      ],
      "execution_count": 0,
      "outputs": [
        {
          "output_type": "stream",
          "text": [
            "20\n"
          ],
          "name": "stdout"
        }
      ]
    },
    {
      "cell_type": "markdown",
      "metadata": {
        "id": "-fPByX9_rpi2",
        "colab_type": "text"
      },
      "source": [
        "**Examples for Data types: 1)integer 2)Float 3)String 4)Boolean :**"
      ]
    },
    {
      "cell_type": "code",
      "metadata": {
        "id": "OmBErsgrrM7X",
        "colab_type": "code",
        "colab": {}
      },
      "source": [
        "price = 10\n",
        "rating = 4.9\n",
        "name = 'Anil'\n",
        "is_published = False"
      ],
      "execution_count": 0,
      "outputs": []
    },
    {
      "cell_type": "markdown",
      "metadata": {
        "id": "GT9VfeSjsJa4",
        "colab_type": "text"
      },
      "source": [
        "Getting Input:\n",
        "**When ever we use input(), input will be of data type string**\n"
      ]
    },
    {
      "cell_type": "code",
      "metadata": {
        "id": "VJfu9FJ4rcoI",
        "colab_type": "code",
        "outputId": "bb5001b6-741c-4772-e423-c8015b1d0ceb",
        "colab": {
          "base_uri": "https://localhost:8080/",
          "height": 51
        }
      },
      "source": [
        "Name = input(\"What is your name?\")\n",
        "print(\"Hello \" + Name)"
      ],
      "execution_count": 0,
      "outputs": [
        {
          "output_type": "stream",
          "text": [
            "What is your name?Anil\n",
            "Hello Anil\n"
          ],
          "name": "stdout"
        }
      ]
    },
    {
      "cell_type": "code",
      "metadata": {
        "id": "HsNdLRKgsL1R",
        "colab_type": "code",
        "outputId": "c64ba974-32d6-4058-868a-2c57f27b59ff",
        "colab": {
          "base_uri": "https://localhost:8080/",
          "height": 68
        }
      },
      "source": [
        "Name = input(\"What is your name? \")\n",
        "Color = input(\"What is your fav color \")\n",
        "print(Name + \" likes \" + Color)"
      ],
      "execution_count": 0,
      "outputs": [
        {
          "output_type": "stream",
          "text": [
            "What is your name? anil\n",
            "What is your fav color red\n",
            "anil likes red\n"
          ],
          "name": "stdout"
        }
      ]
    },
    {
      "cell_type": "markdown",
      "metadata": {
        "id": "F-zCyatSuWTm",
        "colab_type": "text"
      },
      "source": [
        "**Type Conversions:**"
      ]
    },
    {
      "cell_type": "code",
      "metadata": {
        "id": "4M43zfqrtDJZ",
        "colab_type": "code",
        "outputId": "784909e5-be3e-4334-aff6-0d9a23f01e42",
        "colab": {
          "base_uri": "https://localhost:8080/",
          "height": 197
        }
      },
      "source": [
        "year = input(\"Enter Birth Year \")\n",
        "age = 2019 - year "
      ],
      "execution_count": 0,
      "outputs": [
        {
          "output_type": "stream",
          "text": [
            "Enter Birth Year1995\n"
          ],
          "name": "stdout"
        },
        {
          "output_type": "error",
          "ename": "TypeError",
          "evalue": "ignored",
          "traceback": [
            "\u001b[0;31m---------------------------------------------------------------------------\u001b[0m",
            "\u001b[0;31mTypeError\u001b[0m                                 Traceback (most recent call last)",
            "\u001b[0;32m<ipython-input-27-115db7a3fe09>\u001b[0m in \u001b[0;36m<module>\u001b[0;34m()\u001b[0m\n\u001b[1;32m      1\u001b[0m \u001b[0myear\u001b[0m \u001b[0;34m=\u001b[0m \u001b[0minput\u001b[0m\u001b[0;34m(\u001b[0m\u001b[0;34m\"Enter Birth Year\"\u001b[0m\u001b[0;34m)\u001b[0m\u001b[0;34m\u001b[0m\u001b[0;34m\u001b[0m\u001b[0m\n\u001b[0;32m----> 2\u001b[0;31m \u001b[0mage\u001b[0m \u001b[0;34m=\u001b[0m \u001b[0;36m2019\u001b[0m \u001b[0;34m-\u001b[0m \u001b[0myear\u001b[0m\u001b[0;34m\u001b[0m\u001b[0;34m\u001b[0m\u001b[0m\n\u001b[0m",
            "\u001b[0;31mTypeError\u001b[0m: unsupported operand type(s) for -: 'int' and 'str'"
          ]
        }
      ]
    },
    {
      "cell_type": "code",
      "metadata": {
        "id": "IkwQGFd-uktq",
        "colab_type": "code",
        "outputId": "80c45f31-d469-4fb3-e7d6-4f02a307382f",
        "colab": {
          "base_uri": "https://localhost:8080/",
          "height": 51
        }
      },
      "source": [
        "year = input(\"Enter Birth Year \")\n",
        "age = 2019 - int(year)\n",
        "print(\"No.of years\" , age)"
      ],
      "execution_count": 0,
      "outputs": [
        {
          "output_type": "stream",
          "text": [
            "Enter Birth Year 1995\n",
            "No.of years 24\n"
          ],
          "name": "stdout"
        }
      ]
    },
    {
      "cell_type": "markdown",
      "metadata": {
        "id": "-XvZnAAmvyjY",
        "colab_type": "text"
      },
      "source": [
        "**Printing the datatype of a variable:**"
      ]
    },
    {
      "cell_type": "code",
      "metadata": {
        "id": "GNP_GOMjvBsC",
        "colab_type": "code",
        "outputId": "fa974a8b-42e3-4d71-a2d8-75becbbfcaca",
        "colab": {
          "base_uri": "https://localhost:8080/",
          "height": 34
        }
      },
      "source": [
        "print(type(age))"
      ],
      "execution_count": 0,
      "outputs": [
        {
          "output_type": "stream",
          "text": [
            "<class 'int'>\n"
          ],
          "name": "stdout"
        }
      ]
    },
    {
      "cell_type": "markdown",
      "metadata": {
        "id": "Stamm71U1IKm",
        "colab_type": "text"
      },
      "source": [
        "Converting pounds to Kilograms:"
      ]
    },
    {
      "cell_type": "code",
      "metadata": {
        "id": "NGUZHGOSvxsp",
        "colab_type": "code",
        "outputId": "f7b7613b-fabd-4f02-c914-7090d522d5bc",
        "colab": {
          "base_uri": "https://localhost:8080/",
          "height": 51
        }
      },
      "source": [
        "weight = float(input(\"Enter weight(in pounds)\"))\n",
        "print(\"Weight in Kilograms\", weight * 0.45)"
      ],
      "execution_count": 0,
      "outputs": [
        {
          "output_type": "stream",
          "text": [
            "Enter weight(in pounds)198\n",
            "Weight in Kilograms 89.10000000000001\n"
          ],
          "name": "stdout"
        }
      ]
    },
    {
      "cell_type": "markdown",
      "metadata": {
        "id": "dGxOHTlg8vOI",
        "colab_type": "text"
      },
      "source": [
        "**Operations on Strings:**"
      ]
    },
    {
      "cell_type": "code",
      "metadata": {
        "id": "OyqildJk05kG",
        "colab_type": "code",
        "colab": {}
      },
      "source": [
        "name = \"venkata anil kumar thota\""
      ],
      "execution_count": 0,
      "outputs": []
    },
    {
      "cell_type": "code",
      "metadata": {
        "id": "jX2Mi36z4124",
        "colab_type": "code",
        "outputId": "5664ba8c-ae78-4a67-d652-1eb46db4cf2a",
        "colab": {
          "base_uri": "https://localhost:8080/",
          "height": 34
        }
      },
      "source": [
        "print(len(name))"
      ],
      "execution_count": 0,
      "outputs": [
        {
          "output_type": "stream",
          "text": [
            "24\n"
          ],
          "name": "stdout"
        }
      ]
    },
    {
      "cell_type": "code",
      "metadata": {
        "id": "_3X6hM-AMZ91",
        "colab_type": "code",
        "outputId": "cbca0d86-1cf2-49d2-8d22-5592108c4142",
        "colab": {
          "base_uri": "https://localhost:8080/",
          "height": 34
        }
      },
      "source": [
        "print(name[0])"
      ],
      "execution_count": 0,
      "outputs": [
        {
          "output_type": "stream",
          "text": [
            "v\n"
          ],
          "name": "stdout"
        }
      ]
    },
    {
      "cell_type": "code",
      "metadata": {
        "id": "VjCCLH8QMhXI",
        "colab_type": "code",
        "outputId": "84ff9ee8-4a3d-4921-9455-79f3bbbf97de",
        "colab": {
          "base_uri": "https://localhost:8080/",
          "height": 34
        }
      },
      "source": [
        "print(name[-1])"
      ],
      "execution_count": 0,
      "outputs": [
        {
          "output_type": "stream",
          "text": [
            "a\n"
          ],
          "name": "stdout"
        }
      ]
    },
    {
      "cell_type": "code",
      "metadata": {
        "id": "Lt0mR_PdMjIg",
        "colab_type": "code",
        "outputId": "7e877fa7-5ecb-4e2c-b136-fef6a529dc68",
        "colab": {
          "base_uri": "https://localhost:8080/",
          "height": 34
        }
      },
      "source": [
        "print(name[0:3])"
      ],
      "execution_count": 0,
      "outputs": [
        {
          "output_type": "stream",
          "text": [
            "ven\n"
          ],
          "name": "stdout"
        }
      ]
    },
    {
      "cell_type": "code",
      "metadata": {
        "id": "EXUVet-vMmgQ",
        "colab_type": "code",
        "outputId": "275ad4a3-aadb-4915-dd22-d3a6fad506ea",
        "colab": {
          "base_uri": "https://localhost:8080/",
          "height": 34
        }
      },
      "source": [
        "print(name[:3])"
      ],
      "execution_count": 0,
      "outputs": [
        {
          "output_type": "stream",
          "text": [
            "ven\n"
          ],
          "name": "stdout"
        }
      ]
    },
    {
      "cell_type": "code",
      "metadata": {
        "id": "SB4qSyhUMofY",
        "colab_type": "code",
        "outputId": "697be33a-e173-447a-8204-8dbd8885600e",
        "colab": {
          "base_uri": "https://localhost:8080/",
          "height": 34
        }
      },
      "source": [
        "print(name[0:])"
      ],
      "execution_count": 0,
      "outputs": [
        {
          "output_type": "stream",
          "text": [
            "venkata anil kumar thota\n"
          ],
          "name": "stdout"
        }
      ]
    },
    {
      "cell_type": "code",
      "metadata": {
        "id": "fs1FBIfsMqyY",
        "colab_type": "code",
        "outputId": "01505664-3978-4a5d-a399-9d5be437498d",
        "colab": {
          "base_uri": "https://localhost:8080/",
          "height": 34
        }
      },
      "source": [
        "print(name[:-1])"
      ],
      "execution_count": 0,
      "outputs": [
        {
          "output_type": "stream",
          "text": [
            "venkata anil kumar thot\n"
          ],
          "name": "stdout"
        }
      ]
    },
    {
      "cell_type": "code",
      "metadata": {
        "id": "dKShp2ydMtGv",
        "colab_type": "code",
        "outputId": "bb69d5d6-abd1-434f-ef23-2fa1333253de",
        "colab": {
          "base_uri": "https://localhost:8080/",
          "height": 34
        }
      },
      "source": [
        "print(name[:])"
      ],
      "execution_count": 0,
      "outputs": [
        {
          "output_type": "stream",
          "text": [
            "venkata anil kumar thota\n"
          ],
          "name": "stdout"
        }
      ]
    },
    {
      "cell_type": "markdown",
      "metadata": {
        "id": "9gvgik19Pstu",
        "colab_type": "text"
      },
      "source": [
        "**Escape Sequences:**"
      ]
    },
    {
      "cell_type": "code",
      "metadata": {
        "id": "tTC0caYEMzB3",
        "colab_type": "code",
        "colab": {}
      },
      "source": [
        "name = \"venkata \\\"anil\\\" kumar thota\""
      ],
      "execution_count": 0,
      "outputs": []
    },
    {
      "cell_type": "code",
      "metadata": {
        "id": "h5-Exs3lP_C8",
        "colab_type": "code",
        "outputId": "9725eee2-2c05-4317-e418-6801018603c9",
        "colab": {
          "base_uri": "https://localhost:8080/",
          "height": 34
        }
      },
      "source": [
        "print(name)"
      ],
      "execution_count": 0,
      "outputs": [
        {
          "output_type": "stream",
          "text": [
            "venkata \"anil\" kumar thota\n"
          ],
          "name": "stdout"
        }
      ]
    },
    {
      "cell_type": "code",
      "metadata": {
        "id": "YbzFtOhIQHp_",
        "colab_type": "code",
        "colab": {}
      },
      "source": [
        "name = \"venkata \\\\anil kumar thota\""
      ],
      "execution_count": 0,
      "outputs": []
    },
    {
      "cell_type": "code",
      "metadata": {
        "id": "giQm1LTkQNcF",
        "colab_type": "code",
        "outputId": "dc00494b-1fdb-4429-a86a-a9848a3a08bb",
        "colab": {
          "base_uri": "https://localhost:8080/",
          "height": 34
        }
      },
      "source": [
        "print(name)"
      ],
      "execution_count": 0,
      "outputs": [
        {
          "output_type": "stream",
          "text": [
            "venkata \\anil kumar thota\n"
          ],
          "name": "stdout"
        }
      ]
    },
    {
      "cell_type": "code",
      "metadata": {
        "id": "ohwOhbdDQOrn",
        "colab_type": "code",
        "colab": {}
      },
      "source": [
        "name = \"venkata \\nanil kumar thota\""
      ],
      "execution_count": 0,
      "outputs": []
    },
    {
      "cell_type": "code",
      "metadata": {
        "id": "gmcJNDw4QSPN",
        "colab_type": "code",
        "outputId": "faf1f596-076b-4130-9867-1d53443bdab0",
        "colab": {
          "base_uri": "https://localhost:8080/",
          "height": 51
        }
      },
      "source": [
        "print(name)"
      ],
      "execution_count": 0,
      "outputs": [
        {
          "output_type": "stream",
          "text": [
            "venkata \n",
            "anil kumar thota\n"
          ],
          "name": "stdout"
        }
      ]
    },
    {
      "cell_type": "markdown",
      "metadata": {
        "id": "zmHDn15_ROaE",
        "colab_type": "text"
      },
      "source": [
        "**Formatted Strings:**"
      ]
    },
    {
      "cell_type": "code",
      "metadata": {
        "id": "Nl5XbRi9QTY3",
        "colab_type": "code",
        "colab": {}
      },
      "source": [
        "first = \"Venkata Anil Kumar\"\n",
        "last = \"Thota\""
      ],
      "execution_count": 0,
      "outputs": []
    },
    {
      "cell_type": "code",
      "metadata": {
        "id": "SL1A5VyuRahW",
        "colab_type": "code",
        "colab": {}
      },
      "source": [
        "full = f\"{first} {last}\""
      ],
      "execution_count": 0,
      "outputs": []
    },
    {
      "cell_type": "code",
      "metadata": {
        "id": "IzZ34zm_RhXe",
        "colab_type": "code",
        "outputId": "fa14fd76-abd9-47a3-9424-32dd0d03400d",
        "colab": {
          "base_uri": "https://localhost:8080/",
          "height": 34
        }
      },
      "source": [
        "print(full)"
      ],
      "execution_count": 0,
      "outputs": [
        {
          "output_type": "stream",
          "text": [
            "Venkata Anil Kumar Thota\n"
          ],
          "name": "stdout"
        }
      ]
    },
    {
      "cell_type": "code",
      "metadata": {
        "id": "PCubzYInRjYm",
        "colab_type": "code",
        "outputId": "fdcc7cac-9f31-4775-b50e-4dbc19f76f6f",
        "colab": {
          "base_uri": "https://localhost:8080/",
          "height": 34
        }
      },
      "source": [
        "count = f\"{len(name)} {2}\"\n",
        "print(count)"
      ],
      "execution_count": 0,
      "outputs": [
        {
          "output_type": "stream",
          "text": [
            "25 2\n"
          ],
          "name": "stdout"
        }
      ]
    },
    {
      "cell_type": "markdown",
      "metadata": {
        "id": "XUAUeljASBlE",
        "colab_type": "text"
      },
      "source": [
        "**String Methods:**"
      ]
    },
    {
      "cell_type": "markdown",
      "metadata": {
        "id": "ZwjaDamRYhpe",
        "colab_type": "text"
      },
      "source": [
        "How to display as string in uppercase:-\n"
      ]
    },
    {
      "cell_type": "code",
      "metadata": {
        "id": "4o-KpW5ER8m4",
        "colab_type": "code",
        "outputId": "31b74674-f12c-4d0d-8109-4a13ac4e4faa",
        "colab": {
          "base_uri": "https://localhost:8080/",
          "height": 34
        }
      },
      "source": [
        "Name = \"venkata anil kumar thota\"\n",
        "print(Name.upper())"
      ],
      "execution_count": 0,
      "outputs": [
        {
          "output_type": "stream",
          "text": [
            "VENKATA ANIL KUMAR THOTA\n"
          ],
          "name": "stdout"
        }
      ]
    },
    {
      "cell_type": "markdown",
      "metadata": {
        "id": "U-D1NZN3Ypd5",
        "colab_type": "text"
      },
      "source": [
        "How to display as string in Lowercase:-"
      ]
    },
    {
      "cell_type": "code",
      "metadata": {
        "id": "WdiTSOAlSvEW",
        "colab_type": "code",
        "outputId": "9a535b1d-83a8-4cf9-d251-142f092a0901",
        "colab": {
          "base_uri": "https://localhost:8080/",
          "height": 34
        }
      },
      "source": [
        "Name = \"VENKATA anil kumar thota\"\n",
        "print(Name.lower())"
      ],
      "execution_count": 0,
      "outputs": [
        {
          "output_type": "stream",
          "text": [
            "venkata anil kumar thota\n"
          ],
          "name": "stdout"
        }
      ]
    },
    {
      "cell_type": "markdown",
      "metadata": {
        "id": "WxyIqae8YsDH",
        "colab_type": "text"
      },
      "source": [
        "How to display as string with starting letter of the word as upper case:-"
      ]
    },
    {
      "cell_type": "code",
      "metadata": {
        "id": "rqAAbpAVS3Fe",
        "colab_type": "code",
        "outputId": "bb7c9378-2041-4754-b02d-f58cd9eaf07c",
        "colab": {
          "base_uri": "https://localhost:8080/",
          "height": 34
        }
      },
      "source": [
        "Name = \"venkata anil kumar thota\"\n",
        "print(Name.title())"
      ],
      "execution_count": 0,
      "outputs": [
        {
          "output_type": "stream",
          "text": [
            "Venkata Anil Kumar Thota\n"
          ],
          "name": "stdout"
        }
      ]
    },
    {
      "cell_type": "markdown",
      "metadata": {
        "id": "OPpNBPJ9Y1vn",
        "colab_type": "text"
      },
      "source": [
        "Removing the white spaces at the start of the string:"
      ]
    },
    {
      "cell_type": "code",
      "metadata": {
        "id": "e-OnYoB7S7n_",
        "colab_type": "code",
        "outputId": "d7f4873e-df45-469f-8ec5-eb72194377f5",
        "colab": {
          "base_uri": "https://localhost:8080/",
          "height": 34
        }
      },
      "source": [
        "Name = \"     venkata anil kumar thota\"\n",
        "print(Name.lstrip())"
      ],
      "execution_count": 0,
      "outputs": [
        {
          "output_type": "stream",
          "text": [
            "venkata anil kumar thota\n"
          ],
          "name": "stdout"
        }
      ]
    },
    {
      "cell_type": "markdown",
      "metadata": {
        "id": "XWW5ZQiHY-CB",
        "colab_type": "text"
      },
      "source": [
        "Removing the white spaces at the End of the string:"
      ]
    },
    {
      "cell_type": "code",
      "metadata": {
        "id": "QoFtCY4GS_If",
        "colab_type": "code",
        "outputId": "0e5212a6-2580-42f9-a116-df9cda138324",
        "colab": {
          "base_uri": "https://localhost:8080/",
          "height": 34
        }
      },
      "source": [
        "Name = \"venkata anil kumar thota                  \"\n",
        "print(Name.rstrip())"
      ],
      "execution_count": 0,
      "outputs": [
        {
          "output_type": "stream",
          "text": [
            "venkata anil kumar thota\n"
          ],
          "name": "stdout"
        }
      ]
    },
    {
      "cell_type": "code",
      "metadata": {
        "id": "zUURB9zwTENv",
        "colab_type": "code",
        "outputId": "840086c9-55ea-43b9-839d-e398acecb26d",
        "colab": {
          "base_uri": "https://localhost:8080/",
          "height": 34
        }
      },
      "source": [
        "Name = \"venkata anil kumar thota\"\n",
        "print(Name.find(\"ani\"))"
      ],
      "execution_count": 0,
      "outputs": [
        {
          "output_type": "stream",
          "text": [
            "8\n"
          ],
          "name": "stdout"
        }
      ]
    },
    {
      "cell_type": "code",
      "metadata": {
        "id": "CbQmj88RTPva",
        "colab_type": "code",
        "outputId": "77a68cb6-3965-489c-ef6a-49c80c40e1f7",
        "colab": {
          "base_uri": "https://localhost:8080/",
          "height": 34
        }
      },
      "source": [
        "Name = \"venkata anil kumar thota\"\n",
        "print(Name.replace(\"ani\",\"Ani\"))"
      ],
      "execution_count": 0,
      "outputs": [
        {
          "output_type": "stream",
          "text": [
            "venkata Anil kumar thota\n"
          ],
          "name": "stdout"
        }
      ]
    },
    {
      "cell_type": "code",
      "metadata": {
        "id": "vU7GZFB0TVjq",
        "colab_type": "code",
        "outputId": "e6068b23-4e21-4ff7-fe10-0801774e7297",
        "colab": {
          "base_uri": "https://localhost:8080/",
          "height": 34
        }
      },
      "source": [
        "Name = \"venkata anil kumar thota\"\n",
        "print(\"ani\" in Name)"
      ],
      "execution_count": 0,
      "outputs": [
        {
          "output_type": "stream",
          "text": [
            "True\n"
          ],
          "name": "stdout"
        }
      ]
    },
    {
      "cell_type": "code",
      "metadata": {
        "id": "fkZ3j2ZtTdTY",
        "colab_type": "code",
        "outputId": "2f3baaa2-588e-44c2-c49d-f627cb99a2a5",
        "colab": {
          "base_uri": "https://localhost:8080/",
          "height": 34
        }
      },
      "source": [
        "Name = \"venkata anil kumar thota\"\n",
        "print(\"Aniiiiii\" not in Name)"
      ],
      "execution_count": 0,
      "outputs": [
        {
          "output_type": "stream",
          "text": [
            "True\n"
          ],
          "name": "stdout"
        }
      ]
    },
    {
      "cell_type": "markdown",
      "metadata": {
        "id": "6b6oF3-ZUImn",
        "colab_type": "text"
      },
      "source": [
        "**Working with Numbers:**"
      ]
    },
    {
      "cell_type": "code",
      "metadata": {
        "id": "jY_QugI5Tg4g",
        "colab_type": "code",
        "outputId": "d9cf2e42-99f2-4fb8-dd6d-8e7834b841d1",
        "colab": {
          "base_uri": "https://localhost:8080/",
          "height": 34
        }
      },
      "source": [
        "print(round(90.9))"
      ],
      "execution_count": 0,
      "outputs": [
        {
          "output_type": "stream",
          "text": [
            "91\n"
          ],
          "name": "stdout"
        }
      ]
    },
    {
      "cell_type": "code",
      "metadata": {
        "id": "OCQa8q-SVE2H",
        "colab_type": "code",
        "outputId": "af3399f8-14a0-41fe-cf36-f5860967f8c4",
        "colab": {
          "base_uri": "https://localhost:8080/",
          "height": 34
        }
      },
      "source": [
        "print(abs(-20))"
      ],
      "execution_count": 0,
      "outputs": [
        {
          "output_type": "stream",
          "text": [
            "20\n"
          ],
          "name": "stdout"
        }
      ]
    },
    {
      "cell_type": "code",
      "metadata": {
        "id": "aR4jigjJVIEH",
        "colab_type": "code",
        "outputId": "7f5b57d4-810b-4015-c0be-e1b783afd0d1",
        "colab": {
          "base_uri": "https://localhost:8080/",
          "height": 34
        }
      },
      "source": [
        "import math \n",
        "math.ceil(90.1)"
      ],
      "execution_count": 0,
      "outputs": [
        {
          "output_type": "execute_result",
          "data": {
            "text/plain": [
              "91"
            ]
          },
          "metadata": {
            "tags": []
          },
          "execution_count": 46
        }
      ]
    },
    {
      "cell_type": "code",
      "metadata": {
        "id": "Rvl8I-pmVRmJ",
        "colab_type": "code",
        "outputId": "63018c7e-8525-48d1-f0aa-65bd0ca900c5",
        "colab": {
          "base_uri": "https://localhost:8080/",
          "height": 34
        }
      },
      "source": [
        "math.floor(90.1)"
      ],
      "execution_count": 0,
      "outputs": [
        {
          "output_type": "execute_result",
          "data": {
            "text/plain": [
              "90"
            ]
          },
          "metadata": {
            "tags": []
          },
          "execution_count": 47
        }
      ]
    }
  ]
}