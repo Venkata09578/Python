{
  "nbformat": 4,
  "nbformat_minor": 0,
  "metadata": {
    "colab": {
      "name": "Data Structures.ipynb",
      "version": "0.3.2",
      "provenance": [],
      "collapsed_sections": [],
      "include_colab_link": true
    },
    "kernelspec": {
      "name": "python3",
      "display_name": "Python 3"
    }
  },
  "cells": [
    {
      "cell_type": "markdown",
      "metadata": {
        "id": "view-in-github",
        "colab_type": "text"
      },
      "source": [
        "<a href=\"https://colab.research.google.com/github/Venkata09578/Python/blob/master/Data_Structures.ipynb\" target=\"_parent\"><img src=\"https://colab.research.google.com/assets/colab-badge.svg\" alt=\"Open In Colab\"/></a>"
      ]
    },
    {
      "cell_type": "markdown",
      "metadata": {
        "id": "nGlwlyEcC6nE",
        "colab_type": "text"
      },
      "source": [
        "**List**"
      ]
    },
    {
      "cell_type": "code",
      "metadata": {
        "id": "Jum8g9wwCLq5",
        "colab_type": "code",
        "colab": {}
      },
      "source": [
        "letters = [\"a\",\"b\"]"
      ],
      "execution_count": 0,
      "outputs": []
    },
    {
      "cell_type": "code",
      "metadata": {
        "id": "TgvVEC-yDZAF",
        "colab_type": "code",
        "outputId": "01b5a571-abb9-4e6e-8dd3-018ac9aa30a7",
        "colab": {
          "base_uri": "https://localhost:8080/",
          "height": 34
        }
      },
      "source": [
        "print(letters)"
      ],
      "execution_count": 0,
      "outputs": [
        {
          "output_type": "stream",
          "text": [
            "['a', 'b']\n"
          ],
          "name": "stdout"
        }
      ]
    },
    {
      "cell_type": "markdown",
      "metadata": {
        "id": "NMdE_R8uDf2c",
        "colab_type": "text"
      },
      "source": [
        "A two dimensional list is called as a Matrix."
      ]
    },
    {
      "cell_type": "code",
      "metadata": {
        "id": "100LDMS6DbXn",
        "colab_type": "code",
        "outputId": "dc01a8dc-e3f2-4d95-f770-49d7cc208342",
        "colab": {
          "base_uri": "https://localhost:8080/",
          "height": 34
        }
      },
      "source": [
        "matrix = [[0,1],[2.3]]\n",
        "print(matrix)"
      ],
      "execution_count": 0,
      "outputs": [
        {
          "output_type": "stream",
          "text": [
            "[[0, 1], [2.3]]\n"
          ],
          "name": "stdout"
        }
      ]
    },
    {
      "cell_type": "markdown",
      "metadata": {
        "id": "p85ZJ7ufEMBz",
        "colab_type": "text"
      },
      "source": [
        "Adding list of numbers to a list of letters."
      ]
    },
    {
      "cell_type": "code",
      "metadata": {
        "id": "nlWsHSZ8Dpz3",
        "colab_type": "code",
        "outputId": "6ce5bff7-303f-4857-d26f-89468111dec5",
        "colab": {
          "base_uri": "https://localhost:8080/",
          "height": 34
        }
      },
      "source": [
        "zeros = [0] * 5\n",
        "combined = zeros + letters\n",
        "print(combined)"
      ],
      "execution_count": 0,
      "outputs": [
        {
          "output_type": "stream",
          "text": [
            "[0, 0, 0, 0, 0, 'a', 'b']\n"
          ],
          "name": "stdout"
        }
      ]
    },
    {
      "cell_type": "markdown",
      "metadata": {
        "id": "5K0evo11EqvT",
        "colab_type": "text"
      },
      "source": [
        "Storing a range of values to a list."
      ]
    },
    {
      "cell_type": "code",
      "metadata": {
        "id": "sQvYg686Ds-3",
        "colab_type": "code",
        "outputId": "0005dceb-7617-4c4e-912f-4ad68d2ac693",
        "colab": {
          "base_uri": "https://localhost:8080/",
          "height": 34
        }
      },
      "source": [
        "numbers = list(range(10))\n",
        "print(numbers)"
      ],
      "execution_count": 0,
      "outputs": [
        {
          "output_type": "stream",
          "text": [
            "[0, 1, 2, 3, 4, 5, 6, 7, 8, 9]\n"
          ],
          "name": "stdout"
        }
      ]
    },
    {
      "cell_type": "markdown",
      "metadata": {
        "id": "r8OFEtS_Ey1e",
        "colab_type": "text"
      },
      "source": [
        "Printing the length and characters in a given string"
      ]
    },
    {
      "cell_type": "code",
      "metadata": {
        "id": "NRLenbVCEF4P",
        "colab_type": "code",
        "outputId": "3d4cc70f-249a-4257-e2d4-6516310ced54",
        "colab": {
          "base_uri": "https://localhost:8080/",
          "height": 51
        }
      },
      "source": [
        "chars = list(\"Hello World\")\n",
        "print(\"Characters in chars: \",chars)\n",
        "print(\"Lenght of chars: \", len(chars))"
      ],
      "execution_count": 0,
      "outputs": [
        {
          "output_type": "stream",
          "text": [
            "Characters in chars:  ['H', 'e', 'l', 'l', 'o', ' ', 'W', 'o', 'r', 'l', 'd']\n",
            "Lenght of chars:  11\n"
          ],
          "name": "stdout"
        }
      ]
    },
    {
      "cell_type": "markdown",
      "metadata": {
        "id": "X8IC1ue2GPlR",
        "colab_type": "text"
      },
      "source": [
        "**Accessing lists**"
      ]
    },
    {
      "cell_type": "code",
      "metadata": {
        "id": "mtWLLoV0FOHl",
        "colab_type": "code",
        "outputId": "4724370c-7de8-4c28-a833-32105dc3c619",
        "colab": {
          "base_uri": "https://localhost:8080/",
          "height": 102
        }
      },
      "source": [
        "alpha = [\"A\",\"B\",\"C\",\"D\",\"E\"]\n",
        "print(\"First element in the list :\",alpha[0])\n",
        "print(\"Last element in the list :\",alpha[-1])\n",
        "print(\"First 3 elements in the list :\",alpha[0:3])\n",
        "print(\"Alternative elements in the list :\",alpha[::2])\n",
        "print(\"Printing elements in reverse order\",alpha[::-1])"
      ],
      "execution_count": 0,
      "outputs": [
        {
          "output_type": "stream",
          "text": [
            "First element in the list : A\n",
            "Last element in the list : E\n",
            "First 3 elements in the list : ['A', 'B', 'C']\n",
            "Alternative elements in the list : ['A', 'C', 'E']\n",
            "Printing elements in reverse order ['E', 'D', 'C', 'B', 'A']\n"
          ],
          "name": "stdout"
        }
      ]
    },
    {
      "cell_type": "code",
      "metadata": {
        "id": "Nu5Yd2ZJGZXa",
        "colab_type": "code",
        "outputId": "083315b5-acff-4b5b-a126-7b6256a6f784",
        "colab": {
          "base_uri": "https://localhost:8080/",
          "height": 34
        }
      },
      "source": [
        "alpha[0] = \"a\"\n",
        "print(\"List after updating first element :\",alpha)"
      ],
      "execution_count": 0,
      "outputs": [
        {
          "output_type": "stream",
          "text": [
            "List after updating first element : ['a', 'B', 'C', 'D', 'E']\n"
          ],
          "name": "stdout"
        }
      ]
    },
    {
      "cell_type": "markdown",
      "metadata": {
        "id": "pu_u9FeTHtsF",
        "colab_type": "text"
      },
      "source": [
        "**Unpacking Lists**"
      ]
    },
    {
      "cell_type": "code",
      "metadata": {
        "id": "oL-RWN9IGnPA",
        "colab_type": "code",
        "outputId": "f08dacc6-e89e-4a32-873b-477defd8ca77",
        "colab": {
          "base_uri": "https://localhost:8080/",
          "height": 68
        }
      },
      "source": [
        "numbers = list(range(10))\n",
        "first , *other, last = numbers\n",
        "print(\"First number in the list :\",first)\n",
        "print(\"middle numbers in the list :\",other)\n",
        "print(\"Last number in the list :\",last)"
      ],
      "execution_count": 0,
      "outputs": [
        {
          "output_type": "stream",
          "text": [
            "First number in the list : 0\n",
            "middle numbers in the list : [1, 2, 3, 4, 5, 6, 7, 8]\n",
            "Last number in the list : 9\n"
          ],
          "name": "stdout"
        }
      ]
    },
    {
      "cell_type": "markdown",
      "metadata": {
        "id": "jx9RgyRtKmYr",
        "colab_type": "text"
      },
      "source": [
        "**Looping over Lists**"
      ]
    },
    {
      "cell_type": "code",
      "metadata": {
        "id": "isZx8_5IJQVu",
        "colab_type": "code",
        "outputId": "33104d2e-f0d3-4d8d-cc3e-90c4007c828e",
        "colab": {
          "base_uri": "https://localhost:8080/",
          "height": 357
        }
      },
      "source": [
        "numbers = list(range(20))\n",
        "for index,number in enumerate(numbers):\n",
        "  print(f\"index : {index}, Number : {number}\")"
      ],
      "execution_count": 0,
      "outputs": [
        {
          "output_type": "stream",
          "text": [
            "index : 0, Number : 0\n",
            "index : 1, Number : 1\n",
            "index : 2, Number : 2\n",
            "index : 3, Number : 3\n",
            "index : 4, Number : 4\n",
            "index : 5, Number : 5\n",
            "index : 6, Number : 6\n",
            "index : 7, Number : 7\n",
            "index : 8, Number : 8\n",
            "index : 9, Number : 9\n",
            "index : 10, Number : 10\n",
            "index : 11, Number : 11\n",
            "index : 12, Number : 12\n",
            "index : 13, Number : 13\n",
            "index : 14, Number : 14\n",
            "index : 15, Number : 15\n",
            "index : 16, Number : 16\n",
            "index : 17, Number : 17\n",
            "index : 18, Number : 18\n",
            "index : 19, Number : 19\n"
          ],
          "name": "stdout"
        }
      ]
    },
    {
      "cell_type": "markdown",
      "metadata": {
        "id": "Ar5xRWQPLtAn",
        "colab_type": "text"
      },
      "source": [
        "**Adding or removing items**"
      ]
    },
    {
      "cell_type": "code",
      "metadata": {
        "id": "24D0DIPSK0o5",
        "colab_type": "code",
        "outputId": "b156f3b0-f13c-4c64-981e-4296d0be1fd6",
        "colab": {
          "base_uri": "https://localhost:8080/",
          "height": 34
        }
      },
      "source": [
        "numbers = list(range(1,10))\n",
        "numbers.append(10) #To add an element to the end of the list\n",
        "print(numbers)"
      ],
      "execution_count": 0,
      "outputs": [
        {
          "output_type": "stream",
          "text": [
            "[1, 2, 3, 4, 5, 6, 7, 8, 9, 10]\n"
          ],
          "name": "stdout"
        }
      ]
    },
    {
      "cell_type": "code",
      "metadata": {
        "id": "JNnZiSjIdEZe",
        "colab_type": "code",
        "outputId": "7ca56ece-e860-4975-a32a-7e3ffe1bcc7f",
        "colab": {
          "base_uri": "https://localhost:8080/",
          "height": 34
        }
      },
      "source": [
        "numbers.insert(0,0)  #To add an element at a particular index\n",
        "print(numbers)"
      ],
      "execution_count": 0,
      "outputs": [
        {
          "output_type": "stream",
          "text": [
            "[0, 1, 2, 3, 4, 5, 6, 7, 8, 9, 10]\n"
          ],
          "name": "stdout"
        }
      ]
    },
    {
      "cell_type": "code",
      "metadata": {
        "id": "AmRytDdAd5Wg",
        "colab_type": "code",
        "outputId": "9d148205-1411-448a-9515-812d2d7734da",
        "colab": {
          "base_uri": "https://localhost:8080/",
          "height": 34
        }
      },
      "source": [
        "numbers.pop(3) #to remove an element using an index \n",
        "print(numbers)"
      ],
      "execution_count": 0,
      "outputs": [
        {
          "output_type": "stream",
          "text": [
            "[0, 1, 2, 4, 5, 6, 7, 8, 9, 10]\n"
          ],
          "name": "stdout"
        }
      ]
    },
    {
      "cell_type": "code",
      "metadata": {
        "id": "PglrGd0re2VQ",
        "colab_type": "code",
        "outputId": "2d42fabe-4629-4eab-c7ce-f8dbe57ff3da",
        "colab": {
          "base_uri": "https://localhost:8080/",
          "height": 34
        }
      },
      "source": [
        "numbers.remove(10) #to remove an element using its value(it will remove the first 10 if there are many 10's in the list)\n",
        "print(numbers)"
      ],
      "execution_count": 0,
      "outputs": [
        {
          "output_type": "stream",
          "text": [
            "[0, 1, 2, 4, 5, 6, 7, 8, 9]\n"
          ],
          "name": "stdout"
        }
      ]
    },
    {
      "cell_type": "code",
      "metadata": {
        "id": "bXV8oYbYfNhk",
        "colab_type": "code",
        "outputId": "947ae7f6-f19f-4fb1-880c-508116bf81dd",
        "colab": {
          "base_uri": "https://localhost:8080/",
          "height": 34
        }
      },
      "source": [
        "del numbers[0:3] #to remove elments in the first three indexes\n",
        "print(numbers)"
      ],
      "execution_count": 0,
      "outputs": [
        {
          "output_type": "stream",
          "text": [
            "[4, 5, 6, 7, 8, 9]\n"
          ],
          "name": "stdout"
        }
      ]
    },
    {
      "cell_type": "code",
      "metadata": {
        "id": "XMxIZUSkf7Kv",
        "colab_type": "code",
        "outputId": "eb15063e-8957-41d9-b84a-d40ebb210699",
        "colab": {
          "base_uri": "https://localhost:8080/",
          "height": 34
        }
      },
      "source": [
        "numbers.clear() #to remove all the elements in the list\n",
        "print(numbers)"
      ],
      "execution_count": 0,
      "outputs": [
        {
          "output_type": "stream",
          "text": [
            "[]\n"
          ],
          "name": "stdout"
        }
      ]
    },
    {
      "cell_type": "markdown",
      "metadata": {
        "id": "xxhXQUVBg39e",
        "colab_type": "text"
      },
      "source": [
        "**Finding items in a list**"
      ]
    },
    {
      "cell_type": "code",
      "metadata": {
        "id": "B4Gt3i_0gKFP",
        "colab_type": "code",
        "outputId": "0aede0c6-6fa4-4ebb-f610-63b3044f2a33",
        "colab": {
          "base_uri": "https://localhost:8080/",
          "height": 34
        }
      },
      "source": [
        "numbers = [1,2,3,4,5,6,7,8,9,11,2,3,3,2,2,2,2,2,2] #To get the occurence of an element in the list\n",
        "print(numbers.count(2)) "
      ],
      "execution_count": 0,
      "outputs": [
        {
          "output_type": "stream",
          "text": [
            "8\n"
          ],
          "name": "stdout"
        }
      ]
    },
    {
      "cell_type": "code",
      "metadata": {
        "id": "QM3SLlGLhu91",
        "colab_type": "code",
        "outputId": "348335dd-22cb-4d80-e2a8-ec62878c2633",
        "colab": {
          "base_uri": "https://localhost:8080/",
          "height": 34
        }
      },
      "source": [
        "print(numbers.index(3)) #To get the index of the element in the list"
      ],
      "execution_count": 0,
      "outputs": [
        {
          "output_type": "stream",
          "text": [
            "2\n"
          ],
          "name": "stdout"
        }
      ]
    },
    {
      "cell_type": "markdown",
      "metadata": {
        "id": "ctB-cGNpnY64",
        "colab_type": "text"
      },
      "source": [
        "Sorting the elements in the list:"
      ]
    },
    {
      "cell_type": "code",
      "metadata": {
        "id": "Yx9r2-FJh009",
        "colab_type": "code",
        "outputId": "cadb3ba9-63c6-4981-de0e-bda07d096a7b",
        "colab": {
          "base_uri": "https://localhost:8080/",
          "height": 34
        }
      },
      "source": [
        "numbers.sort() #To sort in Ascending order\n",
        "print(numbers)"
      ],
      "execution_count": 0,
      "outputs": [
        {
          "output_type": "stream",
          "text": [
            "[1, 2, 2, 2, 2, 2, 2, 2, 2, 3, 3, 3, 4, 5, 6, 7, 8, 9, 11]\n"
          ],
          "name": "stdout"
        }
      ]
    },
    {
      "cell_type": "code",
      "metadata": {
        "id": "s9lLUlykitN-",
        "colab_type": "code",
        "outputId": "4c4c9444-133d-4212-b78e-f506ddf0348b",
        "colab": {
          "base_uri": "https://localhost:8080/",
          "height": 34
        }
      },
      "source": [
        "numbers.sort(reverse = True) #To sort in Descending order\n",
        "print(numbers)"
      ],
      "execution_count": 0,
      "outputs": [
        {
          "output_type": "stream",
          "text": [
            "[11, 9, 8, 7, 6, 5, 4, 3, 3, 3, 2, 2, 2, 2, 2, 2, 2, 2, 1]\n"
          ],
          "name": "stdout"
        }
      ]
    },
    {
      "cell_type": "markdown",
      "metadata": {
        "id": "cASqvHb_nc5o",
        "colab_type": "text"
      },
      "source": [
        "Using Lambda function:"
      ]
    },
    {
      "cell_type": "code",
      "metadata": {
        "id": "YZTbGab8mBm8",
        "colab_type": "code",
        "outputId": "2eacdd90-9f13-418b-a91d-3685c4d5fc3c",
        "colab": {
          "base_uri": "https://localhost:8080/",
          "height": 34
        }
      },
      "source": [
        "items = [(\"P1\", 19),(\"P2\", 21),(\"P3\", 11)]\n",
        "items.sort(key = lambda item : item[1])\n",
        "print(items)"
      ],
      "execution_count": 0,
      "outputs": [
        {
          "output_type": "stream",
          "text": [
            "[('P3', 11), ('P1', 19), ('P2', 21)]\n"
          ],
          "name": "stdout"
        }
      ]
    },
    {
      "cell_type": "markdown",
      "metadata": {
        "id": "m0nZaVcQn_LN",
        "colab_type": "text"
      },
      "source": [
        "**Map Function**\n",
        "\n",
        "If i want to get only the prices of the products we can acheive that by using map function"
      ]
    },
    {
      "cell_type": "code",
      "metadata": {
        "id": "k9UAP822nKfK",
        "colab_type": "code",
        "outputId": "7943b2ac-4b2c-43ab-fa89-d38d767c8b3e",
        "colab": {
          "base_uri": "https://localhost:8080/",
          "height": 34
        }
      },
      "source": [
        "products = [(\"P1\", 19),(\"P2\", 21),(\"P3\", 11)]\n",
        "prices = list(map(lambda item:item[1],products))\n",
        "print(prices)"
      ],
      "execution_count": 0,
      "outputs": [
        {
          "output_type": "stream",
          "text": [
            "[19, 21, 11]\n"
          ],
          "name": "stdout"
        }
      ]
    },
    {
      "cell_type": "markdown",
      "metadata": {
        "id": "hq84dI0ppEou",
        "colab_type": "text"
      },
      "source": [
        "**Filter Function**\n",
        "\n",
        "To print a list of tuples based on arthematic conditions "
      ]
    },
    {
      "cell_type": "code",
      "metadata": {
        "id": "Dn4NiwPVovaF",
        "colab_type": "code",
        "outputId": "6f4b0f27-fee5-494c-a349-075143c4b0e6",
        "colab": {
          "base_uri": "https://localhost:8080/",
          "height": 34
        }
      },
      "source": [
        "snacs = [(\"P1\", 19),(\"P2\", 21),(\"P3\", 9)]\n",
        "print(list(filter(lambda item : item[1] > 10,snacs)))\n"
      ],
      "execution_count": 0,
      "outputs": [
        {
          "output_type": "stream",
          "text": [
            "[('P1', 19), ('P2', 21)]\n"
          ],
          "name": "stdout"
        }
      ]
    },
    {
      "cell_type": "markdown",
      "metadata": {
        "id": "XsivuUfYqh7N",
        "colab_type": "text"
      },
      "source": [
        "**List Comprehensions**\n",
        "\n",
        "Used to code map and filter functions in easy way\n"
      ]
    },
    {
      "cell_type": "code",
      "metadata": {
        "id": "zRedSqYIp2mj",
        "colab_type": "code",
        "outputId": "f7ad6d98-4e09-4186-9dcd-a2b8d92e3f8f",
        "colab": {
          "base_uri": "https://localhost:8080/",
          "height": 34
        }
      },
      "source": [
        "prices = [item[1] for item in products] #Alternative of using map function\n",
        "print(prices)"
      ],
      "execution_count": 0,
      "outputs": [
        {
          "output_type": "stream",
          "text": [
            "[19, 21, 11]\n"
          ],
          "name": "stdout"
        }
      ]
    },
    {
      "cell_type": "code",
      "metadata": {
        "id": "zRPU_J1QrOLF",
        "colab_type": "code",
        "outputId": "b8694c3a-449d-4de9-e8fa-1536225e84c9",
        "colab": {
          "base_uri": "https://localhost:8080/",
          "height": 34
        }
      },
      "source": [
        "filtered = [item for item in snacs if item[1] > 10 ] #Alternative of using filter function\n",
        "print(filtered)"
      ],
      "execution_count": 0,
      "outputs": [
        {
          "output_type": "stream",
          "text": [
            "[('P1', 19), ('P2', 21)]\n"
          ],
          "name": "stdout"
        }
      ]
    },
    {
      "cell_type": "markdown",
      "metadata": {
        "id": "PiVeEXKSsFfi",
        "colab_type": "text"
      },
      "source": [
        "**Zip Function**"
      ]
    },
    {
      "cell_type": "code",
      "metadata": {
        "id": "ABITCSRUrxgg",
        "colab_type": "code",
        "outputId": "1aeae4be-d26b-41e1-8503-3e6f1e7ea1f9",
        "colab": {
          "base_uri": "https://localhost:8080/",
          "height": 34
        }
      },
      "source": [
        "list1 = [1,2,3,4]\n",
        "list2 = [5,6,7,8]\n",
        "print(list(zip(list1,list2)))"
      ],
      "execution_count": 0,
      "outputs": [
        {
          "output_type": "stream",
          "text": [
            "[(1, 5), (2, 6), (3, 7), (4, 8)]\n"
          ],
          "name": "stdout"
        }
      ]
    },
    {
      "cell_type": "code",
      "metadata": {
        "id": "UmjDn-E61fOJ",
        "colab_type": "code",
        "outputId": "b10d9d25-ca8e-455e-c6f0-ccc4055c2816",
        "colab": {
          "base_uri": "https://localhost:8080/",
          "height": 34
        }
      },
      "source": [
        "print(list(zip(\"abcd\",list1,list2)))"
      ],
      "execution_count": 0,
      "outputs": [
        {
          "output_type": "stream",
          "text": [
            "[('a', 1, 5), ('b', 2, 6), ('c', 3, 7), ('d', 4, 8)]\n"
          ],
          "name": "stdout"
        }
      ]
    },
    {
      "cell_type": "markdown",
      "metadata": {
        "id": "sFvgrWFC1q6r",
        "colab_type": "text"
      },
      "source": [
        "**Stacks**\n",
        "\n",
        "LIFO - last in first out"
      ]
    },
    {
      "cell_type": "code",
      "metadata": {
        "id": "Y3NFSiZj1mHL",
        "colab_type": "code",
        "outputId": "86ff1d30-7135-4784-bbe8-e3df0291c236",
        "colab": {
          "base_uri": "https://localhost:8080/",
          "height": 34
        }
      },
      "source": [
        "s1 = [] #Empty Stack\n",
        "s1.append(1)\n",
        "s1.append(2)\n",
        "s1.append(3)\n",
        "s1.append(4)\n",
        "s1.append(5)\n",
        "s1.append(6)\n",
        "s1.append(7)\n",
        "print(s1)"
      ],
      "execution_count": 0,
      "outputs": [
        {
          "output_type": "stream",
          "text": [
            "[1, 2, 3, 4, 5, 6, 7]\n"
          ],
          "name": "stdout"
        }
      ]
    },
    {
      "cell_type": "code",
      "metadata": {
        "id": "D_MU0YbE4i01",
        "colab_type": "code",
        "outputId": "445c15fd-7257-4e6f-a201-d1cf0b1b50e0",
        "colab": {
          "base_uri": "https://localhost:8080/",
          "height": 34
        }
      },
      "source": [
        "s1.pop() \n",
        "print(s1)"
      ],
      "execution_count": 0,
      "outputs": [
        {
          "output_type": "stream",
          "text": [
            "[1, 2, 3, 4, 5, 6]\n"
          ],
          "name": "stdout"
        }
      ]
    },
    {
      "cell_type": "code",
      "metadata": {
        "id": "fiklfsvn2iQq",
        "colab_type": "code",
        "outputId": "1988c8d9-615f-4faa-93f5-83b045a0d0d6",
        "colab": {
          "base_uri": "https://localhost:8080/",
          "height": 34
        }
      },
      "source": [
        "s1.pop(3) # Removes the value at index 3 from the stack\n",
        "print(s1)"
      ],
      "execution_count": 0,
      "outputs": [
        {
          "output_type": "stream",
          "text": [
            "[1, 2, 3, 5, 6]\n"
          ],
          "name": "stdout"
        }
      ]
    },
    {
      "cell_type": "code",
      "metadata": {
        "id": "cb2wLKfw2nnd",
        "colab_type": "code",
        "outputId": "18dd449a-72f8-4668-992c-cea5fe180f3e",
        "colab": {
          "base_uri": "https://localhost:8080/",
          "height": 34
        }
      },
      "source": [
        "if s1: #Checks whether the stack is empyt or not\n",
        "  print(s1[-1])"
      ],
      "execution_count": 0,
      "outputs": [
        {
          "output_type": "stream",
          "text": [
            "6\n"
          ],
          "name": "stdout"
        }
      ]
    },
    {
      "cell_type": "markdown",
      "metadata": {
        "id": "FT4NPiDQ3bHF",
        "colab_type": "text"
      },
      "source": [
        "**Queues**\n",
        "\n",
        "FIFO - First in First Out"
      ]
    },
    {
      "cell_type": "code",
      "metadata": {
        "id": "brY2rZVo20u5",
        "colab_type": "code",
        "outputId": "76a0b4a0-e810-43d8-9696-eca29613ba07",
        "colab": {
          "base_uri": "https://localhost:8080/",
          "height": 34
        }
      },
      "source": [
        "from collections import deque\n",
        "queue = deque([])\n",
        "queue.append(1)\n",
        "queue.append(2)\n",
        "queue.append(3)\n",
        "queue.append(4)\n",
        "print(queue)"
      ],
      "execution_count": 0,
      "outputs": [
        {
          "output_type": "stream",
          "text": [
            "deque([1, 2, 3, 4])\n"
          ],
          "name": "stdout"
        }
      ]
    },
    {
      "cell_type": "code",
      "metadata": {
        "id": "zDTzRd7l4Qeg",
        "colab_type": "code",
        "outputId": "4bc350b0-8a82-4218-c757-d546a4f1de25",
        "colab": {
          "base_uri": "https://localhost:8080/",
          "height": 34
        }
      },
      "source": [
        "queue.popleft()\n",
        "print(queue)"
      ],
      "execution_count": 0,
      "outputs": [
        {
          "output_type": "stream",
          "text": [
            "deque([2, 3, 4])\n"
          ],
          "name": "stdout"
        }
      ]
    },
    {
      "cell_type": "markdown",
      "metadata": {
        "id": "HiTcZq1tz6bs",
        "colab_type": "text"
      },
      "source": [
        "**Tuples**\n",
        ":Read Only List(Immutable)"
      ]
    },
    {
      "cell_type": "code",
      "metadata": {
        "id": "9X9di-7Zz9fD",
        "colab_type": "code",
        "colab": {}
      },
      "source": [
        "point = (2,3) #We can also define tuple as point = 1,2\n"
      ],
      "execution_count": 0,
      "outputs": []
    },
    {
      "cell_type": "code",
      "metadata": {
        "id": "soQBhHUE0KaW",
        "colab_type": "code",
        "colab": {
          "base_uri": "https://localhost:8080/",
          "height": 34
        },
        "outputId": "2361e6ae-f3eb-4ced-d9f5-f02525cf469d"
      },
      "source": [
        "point = (1,2) + (3,4)  # Concatenating tuples\n",
        "print(point)\n"
      ],
      "execution_count": 2,
      "outputs": [
        {
          "output_type": "stream",
          "text": [
            "(1, 2, 3, 4)\n"
          ],
          "name": "stdout"
        }
      ]
    },
    {
      "cell_type": "code",
      "metadata": {
        "id": "3fHFPHfC0Ujr",
        "colab_type": "code",
        "colab": {
          "base_uri": "https://localhost:8080/",
          "height": 34
        },
        "outputId": "3e17f6ff-5e9b-4e4b-ae9b-fd3160208d4c"
      },
      "source": [
        "print(point[0:2])"
      ],
      "execution_count": 4,
      "outputs": [
        {
          "output_type": "stream",
          "text": [
            "(1, 2)\n"
          ],
          "name": "stdout"
        }
      ]
    },
    {
      "cell_type": "markdown",
      "metadata": {
        "id": "XK5WFwCT0ogQ",
        "colab_type": "text"
      },
      "source": [
        "**Swapping Variables:**"
      ]
    },
    {
      "cell_type": "code",
      "metadata": {
        "id": "8bZDkkYN0dti",
        "colab_type": "code",
        "colab": {
          "base_uri": "https://localhost:8080/",
          "height": 34
        },
        "outputId": "7f5d5ea7-f303-4e53-b348-a2175760c3fc"
      },
      "source": [
        "x = 10\n",
        "y = 11\n",
        "x,y = y,x # Swapping variables with out using thrid variable\n",
        "print(f\"X = {x}, y = {y}\")"
      ],
      "execution_count": 9,
      "outputs": [
        {
          "output_type": "stream",
          "text": [
            "X = 11, y = 10\n"
          ],
          "name": "stdout"
        }
      ]
    },
    {
      "cell_type": "markdown",
      "metadata": {
        "id": "Dx9rgjuk1TdH",
        "colab_type": "text"
      },
      "source": [
        "**Array**"
      ]
    },
    {
      "cell_type": "code",
      "metadata": {
        "id": "6Ahaxbt906Dx",
        "colab_type": "code",
        "colab": {
          "base_uri": "https://localhost:8080/",
          "height": 34
        },
        "outputId": "2cded5b0-1243-4601-e06a-79be269b63ff"
      },
      "source": [
        "from array import array\n",
        "numbers = array(\"i\",[1,2,3])\n",
        "print(numbers)"
      ],
      "execution_count": 10,
      "outputs": [
        {
          "output_type": "stream",
          "text": [
            "array('i', [1, 2, 3])\n"
          ],
          "name": "stdout"
        }
      ]
    },
    {
      "cell_type": "markdown",
      "metadata": {
        "id": "NKu9X3iH2C9v",
        "colab_type": "text"
      },
      "source": [
        "**Sets**\n",
        "\n",
        "Collection with no duplicates"
      ]
    },
    {
      "cell_type": "code",
      "metadata": {
        "id": "Kru45sCe1x_o",
        "colab_type": "code",
        "colab": {
          "base_uri": "https://localhost:8080/",
          "height": 34
        },
        "outputId": "38330c5b-3bcd-4047-c466-6e7c2891847d"
      },
      "source": [
        "  numbers = [1,2,1,3,4,5]\n",
        "  first = set(numbers)\n",
        "  print(\"Uniques elements in the list\", first)"
      ],
      "execution_count": 12,
      "outputs": [
        {
          "output_type": "stream",
          "text": [
            "Uniques elements in the list {1, 2, 3, 4, 5}\n"
          ],
          "name": "stdout"
        }
      ]
    },
    {
      "cell_type": "code",
      "metadata": {
        "id": "nnRoKkED2dH5",
        "colab_type": "code",
        "colab": {}
      },
      "source": [
        "second = {78,9,11}\n"
      ],
      "execution_count": 0,
      "outputs": []
    },
    {
      "cell_type": "markdown",
      "metadata": {
        "id": "2BFY5bTs2sKd",
        "colab_type": "text"
      },
      "source": [
        "Operations on Sets"
      ]
    },
    {
      "cell_type": "code",
      "metadata": {
        "id": "JDn-U0gP2rds",
        "colab_type": "code",
        "colab": {
          "base_uri": "https://localhost:8080/",
          "height": 85
        },
        "outputId": "da9e1aa3-e4b2-4e0c-db8c-86a314db61be"
      },
      "source": [
        "print(\"Union of two sets \" ,first | second)\n",
        "print(\"Intersection of two sets \" ,first & second)\n",
        "print(\"Difference of two sets \" ,first - second)\n",
        "print(\"Semetric diff of two sets \" ,first ^ second)"
      ],
      "execution_count": 17,
      "outputs": [
        {
          "output_type": "stream",
          "text": [
            "Union of two sets  {1, 2, 3, 4, 5, 9, 11, 78}\n",
            "Intersection of two sets  set()\n",
            "Difference of two sets  {1, 2, 3, 4, 5}\n",
            "Semetric diff of two sets  {1, 2, 3, 4, 5, 9, 11, 78}\n"
          ],
          "name": "stdout"
        }
      ]
    },
    {
      "cell_type": "markdown",
      "metadata": {
        "id": "R3xoD4OP3Vv9",
        "colab_type": "text"
      },
      "source": [
        "**Dictionaries**\n",
        "\n",
        "Collection Of key value pairs"
      ]
    },
    {
      "cell_type": "code",
      "metadata": {
        "id": "RMHUTEwZ2xJU",
        "colab_type": "code",
        "colab": {
          "base_uri": "https://localhost:8080/",
          "height": 34
        },
        "outputId": "b99e834e-eefb-43e0-da85-0582f9c4fb4c"
      },
      "source": [
        "point = {\"x\" : 1,\"y\" : 2} #defining a dict\n",
        "print(point)"
      ],
      "execution_count": 20,
      "outputs": [
        {
          "output_type": "stream",
          "text": [
            "{'x': 1, 'y': 2}\n"
          ],
          "name": "stdout"
        }
      ]
    },
    {
      "cell_type": "code",
      "metadata": {
        "id": "aoSME7i836kw",
        "colab_type": "code",
        "colab": {
          "base_uri": "https://localhost:8080/",
          "height": 34
        },
        "outputId": "fb8c8f2e-5231-41fd-87fb-7ad1a9a3fd36"
      },
      "source": [
        "point = dict(x = 1,y = 2) #defining a dict\n",
        "print(point)"
      ],
      "execution_count": 22,
      "outputs": [
        {
          "output_type": "stream",
          "text": [
            "{'x': 1, 'y': 2}\n"
          ],
          "name": "stdout"
        }
      ]
    },
    {
      "cell_type": "code",
      "metadata": {
        "id": "hD_bphxe4Gpx",
        "colab_type": "code",
        "colab": {
          "base_uri": "https://localhost:8080/",
          "height": 34
        },
        "outputId": "8ec2299c-cebe-4da9-f74a-41a72960a99c"
      },
      "source": [
        "point[\"x\"] = 10 #Updating the values in dict by using key\n",
        "point[\"z\"] = 20 #Adding a new key and value to the dict\n",
        "print(point)"
      ],
      "execution_count": 24,
      "outputs": [
        {
          "output_type": "stream",
          "text": [
            "{'x': 10, 'y': 2, 11: 10, 'z': 20}\n"
          ],
          "name": "stdout"
        }
      ]
    },
    {
      "cell_type": "code",
      "metadata": {
        "id": "sxekiDuL4THU",
        "colab_type": "code",
        "colab": {
          "base_uri": "https://localhost:8080/",
          "height": 34
        },
        "outputId": "5a5f9463-5096-4c41-9839-c552f7de5162"
      },
      "source": [
        "print(point.get(\"x\")) #Getting value of x using get function"
      ],
      "execution_count": 25,
      "outputs": [
        {
          "output_type": "stream",
          "text": [
            "10\n"
          ],
          "name": "stdout"
        }
      ]
    },
    {
      "cell_type": "code",
      "metadata": {
        "id": "7ARrklKf4jNV",
        "colab_type": "code",
        "colab": {
          "base_uri": "https://localhost:8080/",
          "height": 34
        },
        "outputId": "37073653-ff05-4282-8b18-3c757f558cab"
      },
      "source": [
        "del point[\"x\"] #Deleting a key in dict\n",
        "print(point)"
      ],
      "execution_count": 26,
      "outputs": [
        {
          "output_type": "stream",
          "text": [
            "{'y': 2, 11: 10, 'z': 20}\n"
          ],
          "name": "stdout"
        }
      ]
    },
    {
      "cell_type": "code",
      "metadata": {
        "id": "NG0yab1D4tNw",
        "colab_type": "code",
        "colab": {
          "base_uri": "https://localhost:8080/",
          "height": 68
        },
        "outputId": "7fb68b6c-83e4-454f-95ca-fdaf7a32d400"
      },
      "source": [
        "#Looping over dict\n",
        "for key in point:\n",
        "  print(point[key])"
      ],
      "execution_count": 28,
      "outputs": [
        {
          "output_type": "stream",
          "text": [
            "2\n",
            "10\n",
            "20\n"
          ],
          "name": "stdout"
        }
      ]
    },
    {
      "cell_type": "code",
      "metadata": {
        "id": "1RCrFSaC41BQ",
        "colab_type": "code",
        "colab": {
          "base_uri": "https://localhost:8080/",
          "height": 68
        },
        "outputId": "b0a95a3c-cee7-4a18-c4ed-81437433644c"
      },
      "source": [
        "for key,value in point.items():\n",
        "  print(key,value)"
      ],
      "execution_count": 29,
      "outputs": [
        {
          "output_type": "stream",
          "text": [
            "y 2\n",
            "11 10\n",
            "z 20\n"
          ],
          "name": "stdout"
        }
      ]
    },
    {
      "cell_type": "markdown",
      "metadata": {
        "id": "TMYs8Gyw5xpU",
        "colab_type": "text"
      },
      "source": [
        "Generators objects:"
      ]
    },
    {
      "cell_type": "code",
      "metadata": {
        "id": "BxbQWLmu5Jyd",
        "colab_type": "code",
        "colab": {
          "base_uri": "https://localhost:8080/",
          "height": 51
        },
        "outputId": "0805bde9-5593-489b-bff1-fa74b49d8135"
      },
      "source": [
        "from sys import getsizeof\n",
        "values = [x * 2 for x in range(5)]\n",
        "print(values)\n",
        "print(\"Size when we use general list comprehension\", getsizeof(values))"
      ],
      "execution_count": 38,
      "outputs": [
        {
          "output_type": "stream",
          "text": [
            "[0, 2, 4, 6, 8]\n",
            "Size when we use general list comprehension 128\n"
          ],
          "name": "stdout"
        }
      ]
    },
    {
      "cell_type": "code",
      "metadata": {
        "id": "ocTgGJYy58aD",
        "colab_type": "code",
        "colab": {
          "base_uri": "https://localhost:8080/",
          "height": 136
        },
        "outputId": "6ce58964-0cdf-4a5a-bd3c-ad195793d8fd"
      },
      "source": [
        "values = (x * 2 for x in range(5))\n",
        "print(values)\n",
        "for x in values:\n",
        "  print(x)\n",
        "  \n",
        "print(\"Size when we use generators\", getsizeof(values))"
      ],
      "execution_count": 39,
      "outputs": [
        {
          "output_type": "stream",
          "text": [
            "<generator object <genexpr> at 0x7f9f19a92150>\n",
            "0\n",
            "2\n",
            "4\n",
            "6\n",
            "8\n",
            "Size when we use generators 88\n"
          ],
          "name": "stdout"
        }
      ]
    },
    {
      "cell_type": "markdown",
      "metadata": {
        "id": "kMwnm27c7A6p",
        "colab_type": "text"
      },
      "source": [
        "Exercise:<br>\n",
        "Printing the most repeated character in sentence"
      ]
    },
    {
      "cell_type": "code",
      "metadata": {
        "id": "ST_XMKRa6Hd9",
        "colab_type": "code",
        "colab": {
          "base_uri": "https://localhost:8080/",
          "height": 34
        },
        "outputId": "c16c01d2-528e-4bf0-daca-55d3ef680522"
      },
      "source": [
        "from pprint import pprint\n",
        "freq = {}\n",
        "sentence = \" This is a common interview Question\"\n",
        "for char in sentence:\n",
        "  if char in freq:\n",
        "    freq[char] += 1\n",
        "  else:\n",
        "    freq[char] = 1\n",
        "    \n",
        "    \n",
        "#pprint(freq,width =1)\n",
        "\n",
        "print(sorted(freq.items(), key = lambda k: k[1],reverse = True)) #Sorting a dict\n"
      ],
      "execution_count": 56,
      "outputs": [
        {
          "output_type": "stream",
          "text": [
            "[(' ', 6), ('i', 5), ('s', 3), ('o', 3), ('n', 3), ('e', 3), ('m', 2), ('t', 2), ('T', 1), ('h', 1), ('a', 1), ('c', 1), ('r', 1), ('v', 1), ('w', 1), ('Q', 1), ('u', 1)]\n"
          ],
          "name": "stdout"
        }
      ]
    },
    {
      "cell_type": "code",
      "metadata": {
        "id": "vpsvMAbd7N1v",
        "colab_type": "code",
        "colab": {}
      },
      "source": [
        ""
      ],
      "execution_count": 0,
      "outputs": []
    }
  ]
}